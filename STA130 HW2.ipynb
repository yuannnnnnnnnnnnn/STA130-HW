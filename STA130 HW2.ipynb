{
 "cells": [
  {
   "cell_type": "code",
   "execution_count": 2,
   "id": "883c495a",
   "metadata": {},
   "outputs": [
    {
     "data": {
      "text/plain": [
       "0.66732"
      ]
     },
     "execution_count": 2,
     "metadata": {},
     "output_type": "execute_result"
    }
   ],
   "source": [
    "# Monte Hall Simulation Code -- not the only way to code this, but it's what Prof. Schwartz came up with...\n",
    "\n",
    "import numpy as np\n",
    "all_door_options = (1,2,3)  # tuple\n",
    "my_door_choice = 1  # 1,2,3\n",
    "i_won = 0\n",
    "reps = 100000\n",
    "for i in range(reps):\n",
    "    secret_winning_door = np.random.choice(all_door_options)\n",
    "    all_door_options_list = list(all_door_options)\n",
    "    # take the secret_winning_door, so we don't show it as a \"goat\" losing door\n",
    "    all_door_options_list.remove(secret_winning_door)\n",
    "    try:\n",
    "        # if my_door_choice was secret_winning_door then it's already removed\n",
    "        all_door_options_list.remove(my_door_choice)\n",
    "    except:\n",
    "        pass\n",
    "    # show a \"goat\" losing door and remove it\n",
    "    goat_door_reveal = np.random.choice(all_door_options_list)\n",
    "    all_door_options_list.remove(goat_door_reveal)\n",
    "\n",
    "    # put the secret_winning_door back in if it wasn't our choice\n",
    "    # we previously removed it, so it would be shown as a  \"goat\" losing door\n",
    "    if secret_winning_door != my_door_choice:\n",
    "        all_door_options_list.append(secret_winning_door)\n",
    "    # if secret_winning_door was our choice then all that's left in the list is a \"goat\" losing door\n",
    "    # if secret_winning_door wasn't our choice then it's all that will be left in the list\n",
    "\n",
    "    # swap strategy\n",
    "    my_door_choice = all_door_options_list[0]\n",
    "\n",
    "    if my_door_choice == secret_winning_door:\n",
    "        i_won += 1\n",
    "\n",
    "i_won/reps"
   ]
  },
  {
   "cell_type": "markdown",
   "id": "aa314424",
   "metadata": {},
   "source": [
    "1.\n",
    "\n",
    "The code explains the Monte Hall problem. The player is presented with three doors, behind one of which is a car (the prize), and behind the other two are goats (losing options). After the player chooses a door, the host, who knows what's behind the doors, reveals a goat behind one of the remaining doors. The player is then given the option to either stick with their original choice or switch to the other unopened door."
   ]
  },
  {
   "cell_type": "code",
   "execution_count": 3,
   "id": "883bd4ad",
   "metadata": {},
   "outputs": [],
   "source": [
    "all_door_options = (1,2,3)  # tuple\n",
    "my_door_choice = 1  # 1,2,3\n",
    "i_won = 0\n",
    "reps = 100000"
   ]
  },
  {
   "cell_type": "markdown",
   "id": "1fe1fea4",
   "metadata": {},
   "source": [
    "all_door_options = listing three possible doors in tuple\n",
    "\n",
    "my_door_choice = the player's initial choice, which starts as door 1 for every simulation \n",
    "\n",
    "i_won = tracking the number of times the player wins\n",
    "\n",
    "reps = the number of simulation to run"
   ]
  },
  {
   "cell_type": "code",
   "execution_count": 4,
   "id": "a1b5ca79",
   "metadata": {},
   "outputs": [
    {
     "ename": "SyntaxError",
     "evalue": "incomplete input (3295782592.py, line 1)",
     "output_type": "error",
     "traceback": [
      "\u001b[0;36m  Cell \u001b[0;32mIn[4], line 1\u001b[0;36m\u001b[0m\n\u001b[0;31m    for i in range(reps):\u001b[0m\n\u001b[0m                         ^\u001b[0m\n\u001b[0;31mSyntaxError\u001b[0m\u001b[0;31m:\u001b[0m incomplete input\n"
     ]
    }
   ],
   "source": [
    "for i in range(reps):"
   ]
  },
  {
   "cell_type": "markdown",
   "id": "57f38a23",
   "metadata": {},
   "source": [
    "This loop makes the program run 'reps' time, which is 100000"
   ]
  },
  {
   "cell_type": "code",
   "execution_count": 5,
   "id": "655c724c",
   "metadata": {},
   "outputs": [],
   "source": [
    "secret_winning_door = np.random.choice(all_door_options)"
   ]
  },
  {
   "cell_type": "markdown",
   "id": "0f795541",
   "metadata": {},
   "source": [
    "Randomly select from three doors (this is the door with a car)"
   ]
  },
  {
   "cell_type": "code",
   "execution_count": 6,
   "id": "c9f264a6",
   "metadata": {},
   "outputs": [],
   "source": [
    "all_door_options_list = list(all_door_options)\n",
    "all_door_options_list.remove(secret_winning_door)\n",
    "try:\n",
    "    all_door_options_list.remove(my_door_choice)\n",
    "except:\n",
    "    pass"
   ]
  },
  {
   "cell_type": "markdown",
   "id": "f339cace",
   "metadata": {},
   "source": [
    "all_door_options_list = making modifications easier\n",
    "\n",
    "secret_winning_door = since it can't be shown as a goat door, it is removed from the list\n",
    "\n",
    "my_door_choice = it's removed to avoid being chosen as the goat door to be reveled\n",
    "\n",
    "try-except = ensures that the code doesn't break when attempting to remove a door that isn't in the list"
   ]
  },
  {
   "cell_type": "code",
   "execution_count": 7,
   "id": "14d44f5e",
   "metadata": {},
   "outputs": [],
   "source": [
    "goat_door_reveal = np.random.choice(all_door_options_list)\n",
    "all_door_options_list.remove(goat_door_reveal)"
   ]
  },
  {
   "cell_type": "markdown",
   "id": "142cb23a",
   "metadata": {},
   "source": [
    "One of the remaining doors is randomly chosen to be revealed\n",
    "\n",
    "The revealed goat door is removed from the list of available doors"
   ]
  },
  {
   "cell_type": "code",
   "execution_count": 8,
   "id": "1d15c085",
   "metadata": {},
   "outputs": [],
   "source": [
    "if secret_winning_door != my_door_choice:\n",
    "    all_door_options_list.append(secret_winning_door)\n",
    "my_door_choice = all_door_options_list[0]"
   ]
  },
  {
   "cell_type": "markdown",
   "id": "aaaafc41",
   "metadata": {},
   "source": [
    "If the player's initial choice wasn't the winning door, the winning door is added back to the list\n",
    "\n",
    "The player switches to the remaining unopened door\n",
    "\n",
    "The player's new choice is updated to be the only door left in the list after the goat door is removed"
   ]
  },
  {
   "cell_type": "code",
   "execution_count": 9,
   "id": "fd0d09c4",
   "metadata": {},
   "outputs": [],
   "source": [
    "if my_door_choice == secret_winning_door:\n",
    "    i_won += 1"
   ]
  },
  {
   "cell_type": "markdown",
   "id": "ed6659f5",
   "metadata": {},
   "source": [
    "Everytime we win, i_won is increased by 1"
   ]
  },
  {
   "cell_type": "code",
   "execution_count": 10,
   "id": "fe283458",
   "metadata": {},
   "outputs": [
    {
     "data": {
      "text/plain": [
       "1e-05"
      ]
     },
     "execution_count": 10,
     "metadata": {},
     "output_type": "execute_result"
    }
   ],
   "source": [
    "i_won / reps"
   ]
  },
  {
   "cell_type": "markdown",
   "id": "e6e60145",
   "metadata": {},
   "source": [
    "Calculating the win rate by dividing the number of wins by the total number of simulations"
   ]
  },
  {
   "cell_type": "markdown",
   "id": "ec630da5",
   "metadata": {},
   "source": [
    "Conclusion: Monte Hall problem is counterintuitive because people assume that it's 50-50 chance after one door is revealed. However, switing the door actually gives 2/3 probability of winning."
   ]
  },
  {
   "cell_type": "code",
   "execution_count": 11,
   "id": "bc405b3f",
   "metadata": {},
   "outputs": [
    {
     "data": {
      "text/plain": [
       "0.66748"
      ]
     },
     "execution_count": 11,
     "metadata": {},
     "output_type": "execute_result"
    }
   ],
   "source": [
    "import numpy as np\n",
    "\n",
    "# Variables\n",
    "reps = 100000\n",
    "wins = 0\n",
    "\n",
    "# Simulation loop\n",
    "for _ in range(reps):\n",
    "    # Randomly choose the winning door and the player's initial choice\n",
    "    winning_door = np.random.choice([1, 2, 3])\n",
    "    player_choice = np.random.choice([1, 2, 3])\n",
    "\n",
    "    # Monty reveals a goat door (one that is neither the winning door nor the player's choice)\n",
    "    remaining_doors = [door for door in [1, 2, 3] if door != player_choice and door != winning_door]\n",
    "    monty_reveal = np.random.choice(remaining_doors)\n",
    "\n",
    "    # The player switches to the other unopened door\n",
    "    switch_choice = [door for door in [1, 2, 3] if door != player_choice and door != monty_reveal][0]\n",
    "\n",
    "    # Count wins if the switch choice is the winning door\n",
    "    if switch_choice == winning_door:\n",
    "        wins += 1\n",
    "\n",
    "# Calculate the win probability for the switch strategy\n",
    "win_probability = wins / reps\n",
    "win_probability\n"
   ]
  },
  {
   "cell_type": "markdown",
   "id": "15f2d105",
   "metadata": {},
   "source": [
    "2. Make the for loop simpler \n",
    "\n",
    "The difference:\n",
    "\n",
    "1) instead of assuming player's initial choice is door1, it is randomly chosen in this case\n",
    "\n",
    "2) then it reveals one of the goat door(one that is neither the winning door) \n",
    "\n",
    "3) using different codes to switch the door"
   ]
  },
  {
   "cell_type": "markdown",
   "id": "a5a6acc3",
   "metadata": {},
   "source": [
    "3. \n",
    "\n",
    "I personally prefer the chatbox code even though the logic in some lines may be a little bit complicated, but it simplified a lot of code and made the situation more clear.\n",
    "\n",
    "Below are the code with comments that were reworded."
   ]
  },
  {
   "cell_type": "code",
   "execution_count": 12,
   "id": "d9efc01d",
   "metadata": {},
   "outputs": [
    {
     "data": {
      "text/plain": [
       "0.66369"
      ]
     },
     "execution_count": 12,
     "metadata": {},
     "output_type": "execute_result"
    }
   ],
   "source": [
    "import numpy as np\n",
    "\n",
    "reps = 100000\n",
    "# the times of repeating the process \n",
    "wins = 0\n",
    "# set winning time to 0 for now\n",
    "\n",
    "\n",
    "for _ in range(reps):\n",
    "    # Randomly choose the winning door and the player's initial choice\n",
    "    winning_door = np.random.choice([1, 2, 3])\n",
    "    player_choice = np.random.choice([1, 2, 3])\n",
    "\n",
    "    # Revealing one door that is neither the winning door nor the player's choice\n",
    "    remaining_doors = [door for door in [1, 2, 3] if door != player_choice and door != winning_door]\n",
    "    monty_reveal = np.random.choice(remaining_doors)\n",
    "\n",
    "    # The player switches to the other unopened door\n",
    "    switch_choice = [door for door in [1, 2, 3] if door != player_choice and door != monty_reveal][0]\n",
    "\n",
    "    # Count wins if the switch choice is the winning door\n",
    "    if switch_choice == winning_door:\n",
    "        wins += 1\n",
    "\n",
    "# Calculate the win probability for the switch strategy\n",
    "win_probability = wins / reps\n",
    "win_probability\n"
   ]
  },
  {
   "cell_type": "markdown",
   "id": "12919384",
   "metadata": {},
   "source": [
    "### Task: Monte Hall Problem Simulation & Code Simplification\n",
    "1. **Original Code Explanation:**\n",
    "   - You shared a Monte Hall simulation that uses 100,000 iterations to demonstrate the probability of winning by switching doors.\n",
    "   - The code initializes variables, selects a random winning door, reveals a losing (goat) door, and then simulates the player switching to the remaining door. If the switched door matches the winning door, the player wins.\n",
    "   - The original loop structure was explained in detail, covering the key steps like door removal, Monty's reveal, and the switching strategy.\n",
    "\n",
    "2. **Simplified Code Suggestion:**\n",
    "   - I provided a streamlined version of the code that removes unnecessary steps, uses list comprehensions, and simplifies the logic.\n",
    "   - The key improvement was clearer handling of door selection and switching, eliminating the need for multiple list removals and try-except blocks.\n",
    "\n",
    "3. **Understanding Variability in Results:**\n",
    "   - You noticed slight variations in the result of the simulation across different runs (e.g., 0.66408 vs. 0.66691).\n",
    "   - The variation is due to the inherent randomness in simulations. The more simulations you run, the closer you get to the theoretical probability of 2/3, but slight differences will always remain due to random fluctuations.\n",
    "\n",
    "4. **Final Explanation:**\n",
    "   - We discussed that this variability can be reduced by increasing the number of repetitions (`reps`), but the results will always fluctuate slightly due to the randomness involved in the simulation.\n",
    "\n",
    "Chatbot chat history link: https://chatgpt.com/share/66eb6251-1ea8-8008-ade8-ecb5f70616ee"
   ]
  },
  {
   "cell_type": "code",
   "execution_count": 13,
   "id": "2bb2183b",
   "metadata": {},
   "outputs": [
    {
     "data": {
      "image/jpeg": "[encoded data removed]",
      "text/html": [
       "\n",
       "        <iframe\n",
       "            width=\"550\"\n",
       "            height=\"300\"\n",
       "            src=\"https://www.youtube.com/embed/56mGTszb_iM\"\n",
       "            frameborder=\"0\"\n",
       "            allowfullscreen\n",
       "            \n",
       "        ></iframe>\n",
       "        "
      ],
      "text/plain": [
       "<IPython.lib.display.YouTubeVideo at 0x7fec281bbad0>"
      ]
     },
     "execution_count": 13,
     "metadata": {},
     "output_type": "execute_result"
    }
   ],
   "source": [
    "# Markov Chains and Text Generation\n",
    "from IPython.display import YouTubeVideo\n",
    "YouTubeVideo('56mGTszb_iM', width = 550)"
   ]
  },
  {
   "cell_type": "code",
   "execution_count": 14,
   "id": "09396612",
   "metadata": {
    "collapsed": true
   },
   "outputs": [
    {
     "ename": "NameError",
     "evalue": "name 'words' is not defined",
     "output_type": "error",
     "traceback": [
      "\u001b[0;31m---------------------------------------------------------------------------\u001b[0m",
      "\u001b[0;31mNameError\u001b[0m                                 Traceback (most recent call last)",
      "Cell \u001b[0;32mIn[14], line 6\u001b[0m\n\u001b[1;32m      4\u001b[0m word_used \u001b[38;5;241m=\u001b[39m \u001b[38;5;28mdict\u001b[39m() \u001b[38;5;66;03m# defaultdict(int)\u001b[39;00m\n\u001b[1;32m      5\u001b[0m next_word \u001b[38;5;241m=\u001b[39m \u001b[38;5;28mdict\u001b[39m() \u001b[38;5;66;03m# defaultdict(lambda: defaultdict(int))\u001b[39;00m\n\u001b[0;32m----> 6\u001b[0m \u001b[38;5;28;01mfor\u001b[39;00m i,word \u001b[38;5;129;01min\u001b[39;00m \u001b[38;5;28menumerate\u001b[39m(\u001b[43mwords\u001b[49m[:\u001b[38;5;241m-\u001b[39m\u001b[38;5;241m1\u001b[39m]):\n\u001b[1;32m      8\u001b[0m     \u001b[38;5;28;01mif\u001b[39;00m word \u001b[38;5;129;01min\u001b[39;00m word_used:\n\u001b[1;32m      9\u001b[0m         word_used[word] \u001b[38;5;241m+\u001b[39m\u001b[38;5;241m=\u001b[39m \u001b[38;5;241m1\u001b[39m\n",
      "\u001b[0;31mNameError\u001b[0m: name 'words' is not defined"
     ]
    }
   ],
   "source": [
    "# Markovian Chatbot\n",
    "\n",
    "# from collections import defaultdict\n",
    "word_used = dict() # defaultdict(int)\n",
    "next_word = dict() # defaultdict(lambda: defaultdict(int))\n",
    "for i,word in enumerate(words[:-1]):\n",
    "\n",
    "    if word in word_used:\n",
    "        word_used[word] += 1\n",
    "    else:\n",
    "        word_used[word] = 1\n",
    "        next_word[word] = {}\n",
    "\n",
    "    if words[i+1] in next_word[word]:\n",
    "        next_word[word][words[i+1]] += 1\n",
    "    else:\n",
    "        next_word[word][words[i+1]] = 1"
   ]
  },
  {
   "cell_type": "markdown",
   "id": "480076e0",
   "metadata": {},
   "source": [
    "4. explanation\n",
    "\n",
    "word_used tracks the time each word appears in the list 'words'\n",
    "\n",
    "next_work keeps track of which words tend to follow each word and how often they do\n",
    "\n",
    "1. the loop checks if the current word is already in word_used. The count increases 1 if it is. On the other hand, if it hasn't been in there, it adds the word to word_used and counts to 1.\n",
    "\n",
    "2. The code then checks if the word following the current word is already recorded as a \"next word\". Same as above, if it is then it increases; if not, then it is added and counts as 1."
   ]
  },
  {
   "cell_type": "markdown",
   "id": "96eb787a",
   "metadata": {},
   "source": [
    "# Summary\n",
    "\n",
    "In our conversation, you shared a Python code snippet used to build a simple Markov chain model that tracks word transitions from a sequence of words. I provided a detailed explanation of how the code works, breaking it down into its key components: word_used (a dictionary that tracks word frequencies) and next_word (a dictionary that tracks the frequency of words that follow each word). The goal of the code is to generate a model that predicts the next word based on the current word by recording word-to-word transitions.\n",
    "\n",
    "Chatbot history link: https://chatgpt.com/share/66eb7ac2-6070-8008-9d71-e483423ebc7c"
   ]
  },
  {
   "cell_type": "code",
   "execution_count": 15,
   "id": "da9d8eb8",
   "metadata": {
    "collapsed": true
   },
   "outputs": [
    {
     "ename": "NameError",
     "evalue": "name 'defaultdict' is not defined",
     "output_type": "error",
     "traceback": [
      "\u001b[0;31m---------------------------------------------------------------------------\u001b[0m",
      "\u001b[0;31mNameError\u001b[0m                                 Traceback (most recent call last)",
      "Cell \u001b[0;32mIn[15], line 3\u001b[0m\n\u001b[1;32m      1\u001b[0m \u001b[38;5;66;03m# Markovian Chatbot Extension #1\u001b[39;00m\n\u001b[0;32m----> 3\u001b[0m word_used2 \u001b[38;5;241m=\u001b[39m \u001b[43mdefaultdict\u001b[49m(\u001b[38;5;28mint\u001b[39m)\n\u001b[1;32m      4\u001b[0m next_word2 \u001b[38;5;241m=\u001b[39m defaultdict(\u001b[38;5;28;01mlambda\u001b[39;00m: defaultdict(\u001b[38;5;28mint\u001b[39m))\n\u001b[1;32m      5\u001b[0m \u001b[38;5;28;01mfor\u001b[39;00m i,word \u001b[38;5;129;01min\u001b[39;00m \u001b[38;5;28menumerate\u001b[39m(words[:\u001b[38;5;241m-\u001b[39m\u001b[38;5;241m2\u001b[39m]):\n",
      "\u001b[0;31mNameError\u001b[0m: name 'defaultdict' is not defined"
     ]
    }
   ],
   "source": [
    "# Markovian Chatbot Extension #1\n",
    "\n",
    "word_used2 = defaultdict(int)\n",
    "next_word2 = defaultdict(lambda: defaultdict(int))\n",
    "for i,word in enumerate(words[:-2]):\n",
    "    word_used2[word+' '+words[i+1]] += 1\n",
    "    next_word2[word+' '+words[i+1]][words[i+2]] += 1 "
   ]
  },
  {
   "cell_type": "markdown",
   "id": "51628ea7",
   "metadata": {},
   "source": [
    "5.\n",
    "\n",
    "This is the extended version of the Markov chain chotbox. It moves from single-word transitions to two-word transitions. \n",
    "\n",
    "Differences:\n",
    "\n",
    "1. word_used2 tracks the grequency of two-word phrases rather than individual words (word + ' ' + words[i+1])\n",
    "\n",
    "2. next_word2 tracks which words follows a two-word phrase (next_word2[word + ' ' + words[i+1]], which tracks the frequency of words following the two-word combination)\n",
    "\n",
    "Conclusion, two words are in a set and then we count the next word that's after the two words"
   ]
  },
  {
   "cell_type": "code",
   "execution_count": 16,
   "id": "51a848bf",
   "metadata": {
    "collapsed": true
   },
   "outputs": [
    {
     "ename": "NameError",
     "evalue": "name 'avatar' is not defined",
     "output_type": "error",
     "traceback": [
      "\u001b[0;31m---------------------------------------------------------------------------\u001b[0m",
      "\u001b[0;31mNameError\u001b[0m                                 Traceback (most recent call last)",
      "Cell \u001b[0;32mIn[16], line 5\u001b[0m\n\u001b[1;32m      3\u001b[0m \u001b[38;5;28;01mfrom\u001b[39;00m \u001b[38;5;21;01mcollections\u001b[39;00m \u001b[38;5;28;01mimport\u001b[39;00m Counter, defaultdict\n\u001b[1;32m      4\u001b[0m \u001b[38;5;66;03m# `avatar` is a dataset, and `character` is one of it's columns\u001b[39;00m\n\u001b[0;32m----> 5\u001b[0m characters \u001b[38;5;241m=\u001b[39m Counter(\u001b[38;5;124m\"\u001b[39m\u001b[38;5;130;01m\\n\u001b[39;00m\u001b[38;5;124m\"\u001b[39m\u001b[38;5;241m+\u001b[39m \u001b[43mavatar\u001b[49m\u001b[38;5;241m.\u001b[39mcharacter\u001b[38;5;241m.\u001b[39mstr\u001b[38;5;241m.\u001b[39mupper()\u001b[38;5;241m.\u001b[39mstr\u001b[38;5;241m.\u001b[39mreplace(\u001b[38;5;124m'\u001b[39m\u001b[38;5;124m \u001b[39m\u001b[38;5;124m'\u001b[39m,\u001b[38;5;124m'\u001b[39m\u001b[38;5;124m.\u001b[39m\u001b[38;5;124m'\u001b[39m)\u001b[38;5;241m+\u001b[39m\u001b[38;5;124m\"\u001b[39m\u001b[38;5;124m:\u001b[39m\u001b[38;5;124m\"\u001b[39m)\n\u001b[1;32m      6\u001b[0m \u001b[38;5;66;03m# this code changes the type of the `character` column to `str`; then,\u001b[39;00m\n\u001b[1;32m      7\u001b[0m \u001b[38;5;66;03m# makes the text uppercase, and replaces spaces with '.'\u001b[39;00m\n\u001b[1;32m      9\u001b[0m nested_dict \u001b[38;5;241m=\u001b[39m \u001b[38;5;28;01mlambda\u001b[39;00m: defaultdict(nested_dict)\n",
      "\u001b[0;31mNameError\u001b[0m: name 'avatar' is not defined"
     ]
    }
   ],
   "source": [
    "# Markovian Chatbot Extension #2\n",
    "\n",
    "from collections import Counter, defaultdict\n",
    "# `avatar` is a dataset, and `character` is one of it's columns\n",
    "characters = Counter(\"\\n\"+ avatar.character.str.upper().str.replace(' ','.')+\":\")\n",
    "# this code changes the type of the `character` column to `str`; then,\n",
    "# makes the text uppercase, and replaces spaces with '.'\n",
    "\n",
    "nested_dict = lambda: defaultdict(nested_dict)\n",
    "word_used2C = nested_dict()\n",
    "next_word2C = nested_dict()\n",
    "\n",
    "for i,word in enumerate(words[:-2]):\n",
    "    if word in characters:\n",
    "        character = word\n",
    "        \n",
    "    if character not in word_used2C:\n",
    "        word_used2C[character] = dict()\n",
    "    if word+' '+words[i+1] not in word_used2C[character]:\n",
    "        word_used2C[character][word+' '+words[i+1]] = 0\n",
    "    word_used2C[character][word+' '+words[i+1]] += 1\n",
    "    \n",
    "    if character not in next_word2C:\n",
    "        next_word2C[character] = dict()\n",
    "    if word+' '+words[i+1] not in next_word2C[character]:\n",
    "        next_word2C[character][word+' '+words[i+1]] = dict()\n",
    "    if words[i+2] not in next_word2C[character][word+' '+words[i+1]]:\n",
    "        next_word2C[character][word+' '+words[i+1]][words[i+2]] = 0\n",
    "    next_word2C[character][word+' '+words[i+1]][words[i+2]] += 1"
   ]
  },
  {
   "cell_type": "markdown",
   "id": "d976828f",
   "metadata": {},
   "source": [
    "This extension introduces character-based dialogue modeling"
   ]
  },
  {
   "cell_type": "code",
   "execution_count": null,
   "id": "83dc8636",
   "metadata": {},
   "outputs": [],
   "source": [
    "characters = Counter(\"\\n\"+ avatar.character.str.upper().str.replace(' ','.')+\":\")"
   ]
  },
  {
   "cell_type": "markdown",
   "id": "dc3feb5b",
   "metadata": {},
   "source": [
    "This line assumes that avatar is a dataset and character is one of its columns, which contains the names of characters.\n",
    "\n",
    "- converts the caracter column to uppercase strings and use dots to standardize character names\n",
    "\n",
    "- counter is then used to count the frequency of each character\n",
    "\n",
    "- \\n and : suggest that this is for formatting character names"
   ]
  },
  {
   "cell_type": "code",
   "execution_count": null,
   "id": "fb77ef23",
   "metadata": {},
   "outputs": [],
   "source": [
    "nested_dict = lambda: defaultdict(nested_dict)"
   ]
  },
  {
   "cell_type": "markdown",
   "id": "fc08ff0d",
   "metadata": {},
   "source": [
    "This function creates a dictionary that can have any depth by using a defaultdict that points to itself\n",
    "\n",
    "word_used2C tracks the frequency of two-word phrases for each character\n",
    "\n",
    "next_word2C tracks the next words that follow two-word phrases for each character"
   ]
  },
  {
   "cell_type": "code",
   "execution_count": null,
   "id": "56479e95",
   "metadata": {},
   "outputs": [],
   "source": [
    "for i,word in enumerate(words[:-2]):\n",
    "    if word in characters:\n",
    "        character = word"
   ]
  },
  {
   "cell_type": "markdown",
   "id": "ef3ade26",
   "metadata": {},
   "source": [
    "The loop iterates over each word in the list words\n",
    "\n",
    "if word in characters checks whether current word matches a character in the characters"
   ]
  },
  {
   "cell_type": "markdown",
   "id": "08e4d270",
   "metadata": {},
   "source": [
    "### Assignment Summary: Markovian Chatbot with Extensions\n",
    "\n",
    "In this assignment, we developed a Markovian chatbot capable of predicting the next word(s) in a sequence based on previously observed word transitions. The project included multiple extensions to enhance the model's capabilities.\n",
    "\n",
    "#### 1. **Basic Markov Chain Model**:\n",
    "- We started with a simple first-order Markov chain, where we tracked word transitions. The `word_used` dictionary stored the frequency of each word, and the `next_word` dictionary stored which words followed the current word, with their respective counts.\n",
    "\n",
    "#### 2. **Extension #1: Second-Order Markov Chain**:\n",
    "- This extension enhanced the model by introducing **two-word transitions** (second-order Markov model). The chatbot now considers the last two words to predict the next word, allowing for more contextually relevant predictions. The `word_used2` dictionary tracked the frequency of two-word sequences, and `next_word2` stored the following words for each two-word phrase.\n",
    "\n",
    "#### 3. **Extension #2: Character-Specific Markov Chain**:\n",
    "- In this extension, we introduced character-based word transitions using dialogue data. Each character's speech was modeled individually. The `word_used2C` dictionary tracked the frequency of two-word phrases for each character, and `next_word2C` tracked the next word that followed a two-word phrase, also on a per-character basis. This allowed the chatbot to generate predictions based on each character's specific speech patterns.\n",
    "\n",
    "### Conclusion:\n",
    "The final chatbot leverages both second-order word transitions and character-specific modeling, creating a flexible and context-aware system for predicting dialogue. This setup is ideal for applications involving dialogue generation, script analysis, or interactive conversational agents.\n",
    "\n",
    "Chatbot history link: https://chatgpt.com/share/66eb7ac2-6070-8008-9d71-e483423ebc7c"
   ]
  },
  {
   "cell_type": "markdown",
   "id": "3db7b6d1",
   "metadata": {},
   "source": [
    "6. \n",
    "\n",
    "\n",
    "Discuss how quickly the ChatBot was able to be helpful for each of the above questions, and if so, how?\n",
    "\n",
    "- ChatBot was really helpful for each of the above questions because it can explain each line of code and also break them down. When I had problem like being not sure about the probability of the Monte Hall problem, it answered my question immediately without searching again. \n",
    "\n",
    "\n",
    "Discuss whether or not interacting with ChatBot to try to figure things out was frustrating or unhelpful, and if so, how?\n",
    "\n",
    "- It sometimes may be frustrating when it kept giving me unaccessable link or useless information. Also, the answers are sometimes not correct, when you correct chatbot, it gives you different answers which is very unhelpful. Otherwise, it is pretty helpful when I have questions or it points out the coding problem shortly.\n",
    "\n",
    "\n",
    "Based on your experiences to date (e.g., including using ChatBots to troubleshoot coding errors in the previous homework), provide an overall assessment evaluating the usefulness of ChatBots as tools to help you understand code\n",
    "\n",
    "- I would say it is 80% helpful because whenever I have questions and do not wanna search on google one by one, asking chatbot is the best solution. It is also efficient to get the information I want. When breaking down the code, I understand how they work step by step, which is very helpful."
   ]
  },
  {
   "cell_type": "markdown",
   "id": "3207ebc5",
   "metadata": {},
   "source": [
    "7. \n",
    "\n",
    "Reflect on your experience interacting with ChatBot and describe how your perception of AI-driven assistance tools in the context of learning coding, statistics, and data science has been evolving (or not) since joining the course\n",
    "\n",
    "-I think AI is pretty helpful during the class no matter helping for learning coding or statistics. I personal opinion is that nowadays, a big part is to understand how it works instead of trying to figure it out by ourselves because there are too many things to learn. The only things is that I have to be awareful of how much I'm relying on AI because I still want to think by myself before I ask on chatbot."
   ]
  },
  {
   "cell_type": "markdown",
   "id": "37a3274d",
   "metadata": {},
   "source": [
    "8-3.\n",
    "\n",
    "---\n",
    "\n",
    "**Summary: The Role of Coding and Data Analysis in Statistics and Data Science**\n",
    "\n",
    "In the fields of **statistics** and **data science**, coding and data analysis are essential skills:\n",
    "\n",
    "1. **Statisticians**:\n",
    "   - **Coding**: Statisticians use programming languages (like R or Python) and statistical software (such as SAS or SPSS) to perform data analysis. While some theoretical work can be done manually, modern statistical practice almost always involves coding for automation and efficiency.\n",
    "   - **Data Analysis**: Central to a statistician’s role, involving tasks like hypothesis testing and regression analysis. Without data analysis, a statistician’s ability to solve real-world problems and support decision-making is significantly limited.\n",
    "\n",
    "2. **Data Scientists**:\n",
    "   - **Coding**: Essential for handling large datasets, automating processes, and building machine learning models. Common languages include Python, R, and SQL. Coding is integral to performing the technical aspects of the job.\n",
    "   - **Data Analysis**: Involves exploratory data analysis (EDA), creating predictive models, and deriving insights from data. Data analysis is crucial for making data-driven decisions and executing the core responsibilities of a data scientist.\n",
    "\n",
    "**Alternative Roles**:\n",
    "   - **Non-Technical Roles**: Roles like Data Strategy Consultant, Project Manager for Data Science Teams, or Data Visualization Specialist may not require heavy coding or data analysis.\n",
    "   - **Academic or Theoretical Roles**: A more theoretical or academic focus in statistics might involve less coding and data analysis, but such roles are often limited to research or teaching rather than applied statistical work.\n",
    "\n",
    "In summary, while coding and data analysis are central to traditional roles in statistics and data science, there are alternative paths and roles that may involve less direct engagement with these skills.\n",
    "\n",
    "--- "
   ]
  },
  {
   "cell_type": "markdown",
   "id": "834d8db7",
   "metadata": {},
   "source": [
    "8-4.\n",
    "\n",
    "Paraphrase the assessments and conclusions of your conversation in the form of a reflection on your current thoughts regarding your potential future career(s) and how you can go about building the skills you need to pursue it\n",
    "\n",
    "-My current thought is that we have to use coding a lot of time in our future, so computational skills are very important. No matter which job we are doing, we are around the AI generation, which means a lot of job is going to rely on AI. The most important skill that I think is 'learning and adaptability' since technology is changeing too fast. We should be able to adapt the enviornment fast to suit in the soceity."
   ]
  },
  {
   "cell_type": "markdown",
   "id": "9756ce3b",
   "metadata": {},
   "source": [
    "8-5. \n",
    "\n",
    "Give your thoughts regarding the helpfulness or limitations of your conversation with a ChatBot, and describe the next steps you would take to pursue this conversation further if you felt the information the ChatBot provides was somewhat high level and general, and perhaps lacked the depth and detailed knowledge of a dedicated subject matter expert who had really take the time to understand the ins and outs of the industry and career path in question.\n",
    "\n",
    "-In my opinion, AI can tell us what skills we need but it can not tell us the experience. For example, people who have graduated may already knew their lifestyles and their life pace, however, AI does not know about those things because it does not have thoughts. People who have experience can give us life advice while AI may not. There are much more things that a real person can answer and also they know about the society."
   ]
  },
  {
   "cell_type": "markdown",
   "id": "9921600b",
   "metadata": {},
   "source": [
    "9. \n",
    "\n",
    "Have you reviewed the course wiki-textbook and interacted with a ChatBot (or, if that wasn't sufficient, real people in the course piazza discussion board or TA office hours) to help you understand all the material in the tutorial and lecture that you didn't quite follow when you first saw it?\n",
    "\n",
    "Yes"
   ]
  }
 ],
 "metadata": {
  "kernelspec": {
   "display_name": "Python 3 (ipykernel)",
   "language": "python",
   "name": "python3"
  },
  "language_info": {
   "codemirror_mode": {
    "name": "ipython",
    "version": 3
   },
   "file_extension": ".py",
   "mimetype": "text/x-python",
   "name": "python",
   "nbconvert_exporter": "python",
   "pygments_lexer": "ipython3",
   "version": "3.11.6"
  }
 },
 "nbformat": 4,
 "nbformat_minor": 5
}
